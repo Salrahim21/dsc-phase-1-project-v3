{
 "cells": [
  {
   "cell_type": "markdown",
   "metadata": {},
   "source": [
    "## Final Project Submission\n",
    "\n",
    "Please fill out:\n",
    "* Student name: \n",
    "* Student pace: self paced / part time / full time\n",
    "* Scheduled project review date/time: \n",
    "* Instructor name: \n",
    "* Blog post URL:\n"
   ]
  },
  {
   "cell_type": "markdown",
   "metadata": {},
   "source": [
    "Ibrahim Salim\n",
    "\n",
    "Full time Hybrid student\n",
    "\n",
    "Deadline submission: 28th March 2025 at 6p.m\n",
    "\n",
    "Samwel Karu\n"
   ]
  },
  {
   "cell_type": "markdown",
   "metadata": {},
   "source": [
    "# *Step 1* Load the Dataset"
   ]
  },
  {
   "cell_type": "code",
   "execution_count": 1,
   "metadata": {},
   "outputs": [],
   "source": [
    "import pandas as pd \n",
    "import matplotlib.pyplot as plt "
   ]
  },
  {
   "cell_type": "code",
   "execution_count": 2,
   "metadata": {},
   "outputs": [],
   "source": [
    "df = pd.read_csv(\"data/Aviation_Data.csv\")"
   ]
  },
  {
   "cell_type": "markdown",
   "metadata": {},
   "source": [
    "# *Step 2* Understand the Data"
   ]
  },
  {
   "cell_type": "code",
   "execution_count": 3,
   "metadata": {},
   "outputs": [],
   "source": [
    "#This is a user defined function that helps you understand the data \n",
    "def inspect_dataset(path):\n",
    "    df=pd.read_csv(path)\n",
    "    print('--------data info------')\n",
    "    print(df.info())\n",
    "    print('--------data describe-------')\n",
    "    print(df.describe())\n",
    "    print('-------data shape----')\n",
    "    print(df.shape)\n",
    "    return inspect_dataset"
   ]
  },
  {
   "cell_type": "code",
   "execution_count": 4,
   "metadata": {},
   "outputs": [
    {
     "name": "stdout",
     "output_type": "stream",
     "text": [
      "--------data info------\n",
      "<class 'pandas.core.frame.DataFrame'>\n",
      "RangeIndex: 88889 entries, 0 to 88888\n",
      "Data columns (total 26 columns):\n",
      " #   Column                  Non-Null Count  Dtype  \n",
      "---  ------                  --------------  -----  \n",
      " 0   Event.Id                88889 non-null  object \n",
      " 1   Investigation.Type      88889 non-null  object \n",
      " 2   Accident.Number         88889 non-null  object \n",
      " 3   Event.Date              88889 non-null  object \n",
      " 4   Location                88889 non-null  object \n",
      " 5   Country                 88889 non-null  object \n",
      " 6   Airport.Code            88889 non-null  object \n",
      " 7   Airport.Name            88889 non-null  object \n",
      " 8   Injury.Severity         88889 non-null  object \n",
      " 9   Aircraft.damage         88889 non-null  object \n",
      " 10  Registration.Number     88889 non-null  object \n",
      " 11  Make                    88889 non-null  object \n",
      " 12  Model                   88889 non-null  object \n",
      " 13  Amateur.Built           88889 non-null  bool   \n",
      " 14  Number.of.Engines       88889 non-null  float64\n",
      " 15  Engine.Type             88889 non-null  object \n",
      " 16  Purpose.of.flight       88889 non-null  object \n",
      " 17  Total.Fatal.Injuries    88889 non-null  float64\n",
      " 18  Total.Serious.Injuries  88889 non-null  float64\n",
      " 19  Total.Minor.Injuries    88889 non-null  float64\n",
      " 20  Total.Uninjured         88889 non-null  float64\n",
      " 21  Weather.Condition       88889 non-null  object \n",
      " 22  Broad.phase.of.flight   88889 non-null  object \n",
      " 23  Report.Status           88889 non-null  object \n",
      " 24  Publication.Date        88889 non-null  object \n",
      " 25  Event.Year              88889 non-null  int64  \n",
      "dtypes: bool(1), float64(5), int64(1), object(19)\n",
      "memory usage: 17.0+ MB\n",
      "None\n",
      "--------data describe-------\n",
      "       Number.of.Engines  Total.Fatal.Injuries  Total.Serious.Injuries  \\\n",
      "count       88889.000000          88889.000000            88889.000000   \n",
      "mean            1.136552              0.564761                0.240491   \n",
      "std             0.432545              5.126649                1.434614   \n",
      "min             0.000000              0.000000                0.000000   \n",
      "25%             1.000000              0.000000                0.000000   \n",
      "50%             1.000000              0.000000                0.000000   \n",
      "75%             1.000000              0.000000                0.000000   \n",
      "max             8.000000            349.000000              161.000000   \n",
      "\n",
      "       Total.Minor.Injuries  Total.Uninjured    Event.Year  \n",
      "count          88889.000000     88889.000000  88889.000000  \n",
      "mean               0.309127         4.971245   1999.206662  \n",
      "std                2.083715        27.002011     11.888226  \n",
      "min                0.000000         0.000000   1948.000000  \n",
      "25%                0.000000         0.000000   1989.000000  \n",
      "50%                0.000000         1.000000   1998.000000  \n",
      "75%                0.000000         2.000000   2009.000000  \n",
      "max              380.000000       699.000000   2022.000000  \n",
      "-------data shape----\n",
      "(88889, 26)\n"
     ]
    },
    {
     "data": {
      "text/plain": [
       "<function __main__.inspect_dataset(path)>"
      ]
     },
     "execution_count": 4,
     "metadata": {},
     "output_type": "execute_result"
    }
   ],
   "source": [
    "inspect_dataset(\"data/Aviation_Data.csv\")"
   ]
  },
  {
   "cell_type": "markdown",
   "metadata": {},
   "source": [
    "# *Step 3* Check and Handle missing values"
   ]
  },
  {
   "cell_type": "code",
   "execution_count": 5,
   "metadata": {},
   "outputs": [
    {
     "data": {
      "text/html": [
       "<div>\n",
       "<style scoped>\n",
       "    .dataframe tbody tr th:only-of-type {\n",
       "        vertical-align: middle;\n",
       "    }\n",
       "\n",
       "    .dataframe tbody tr th {\n",
       "        vertical-align: top;\n",
       "    }\n",
       "\n",
       "    .dataframe thead th {\n",
       "        text-align: right;\n",
       "    }\n",
       "</style>\n",
       "<table border=\"1\" class=\"dataframe\">\n",
       "  <thead>\n",
       "    <tr style=\"text-align: right;\">\n",
       "      <th></th>\n",
       "      <th>Event.Id</th>\n",
       "      <th>Investigation.Type</th>\n",
       "      <th>Accident.Number</th>\n",
       "      <th>Event.Date</th>\n",
       "      <th>Location</th>\n",
       "      <th>Country</th>\n",
       "      <th>Airport.Code</th>\n",
       "      <th>Airport.Name</th>\n",
       "      <th>Injury.Severity</th>\n",
       "      <th>Aircraft.damage</th>\n",
       "      <th>...</th>\n",
       "      <th>Purpose.of.flight</th>\n",
       "      <th>Total.Fatal.Injuries</th>\n",
       "      <th>Total.Serious.Injuries</th>\n",
       "      <th>Total.Minor.Injuries</th>\n",
       "      <th>Total.Uninjured</th>\n",
       "      <th>Weather.Condition</th>\n",
       "      <th>Broad.phase.of.flight</th>\n",
       "      <th>Report.Status</th>\n",
       "      <th>Publication.Date</th>\n",
       "      <th>Event.Year</th>\n",
       "    </tr>\n",
       "  </thead>\n",
       "  <tbody>\n",
       "    <tr>\n",
       "      <th>0</th>\n",
       "      <td>20001218X45444</td>\n",
       "      <td>Accident</td>\n",
       "      <td>SEA87LA080</td>\n",
       "      <td>1948-10-24</td>\n",
       "      <td>MOOSE CREEK, ID</td>\n",
       "      <td>United States</td>\n",
       "      <td>Unknown</td>\n",
       "      <td>Unknown</td>\n",
       "      <td>Fatal(2)</td>\n",
       "      <td>Destroyed</td>\n",
       "      <td>...</td>\n",
       "      <td>Personal</td>\n",
       "      <td>2.0</td>\n",
       "      <td>0.0</td>\n",
       "      <td>0.0</td>\n",
       "      <td>0.0</td>\n",
       "      <td>UNK</td>\n",
       "      <td>Cruise</td>\n",
       "      <td>Probable Cause</td>\n",
       "      <td>unknown</td>\n",
       "      <td>1948</td>\n",
       "    </tr>\n",
       "    <tr>\n",
       "      <th>1</th>\n",
       "      <td>20001218X45447</td>\n",
       "      <td>Accident</td>\n",
       "      <td>LAX94LA336</td>\n",
       "      <td>1962-07-19</td>\n",
       "      <td>BRIDGEPORT, CA</td>\n",
       "      <td>United States</td>\n",
       "      <td>Unknown</td>\n",
       "      <td>Unknown</td>\n",
       "      <td>Fatal(4)</td>\n",
       "      <td>Destroyed</td>\n",
       "      <td>...</td>\n",
       "      <td>Personal</td>\n",
       "      <td>4.0</td>\n",
       "      <td>0.0</td>\n",
       "      <td>0.0</td>\n",
       "      <td>0.0</td>\n",
       "      <td>UNK</td>\n",
       "      <td>Unknown</td>\n",
       "      <td>Probable Cause</td>\n",
       "      <td>1996-09-19</td>\n",
       "      <td>1962</td>\n",
       "    </tr>\n",
       "    <tr>\n",
       "      <th>2</th>\n",
       "      <td>20061025X01555</td>\n",
       "      <td>Accident</td>\n",
       "      <td>NYC07LA005</td>\n",
       "      <td>1974-08-30</td>\n",
       "      <td>Saltville, VA</td>\n",
       "      <td>United States</td>\n",
       "      <td>Unknown</td>\n",
       "      <td>Unknown</td>\n",
       "      <td>Fatal(3)</td>\n",
       "      <td>Destroyed</td>\n",
       "      <td>...</td>\n",
       "      <td>Personal</td>\n",
       "      <td>3.0</td>\n",
       "      <td>0.0</td>\n",
       "      <td>0.0</td>\n",
       "      <td>0.0</td>\n",
       "      <td>IMC</td>\n",
       "      <td>Cruise</td>\n",
       "      <td>Probable Cause</td>\n",
       "      <td>2007-02-26</td>\n",
       "      <td>1974</td>\n",
       "    </tr>\n",
       "    <tr>\n",
       "      <th>3</th>\n",
       "      <td>20001218X45448</td>\n",
       "      <td>Accident</td>\n",
       "      <td>LAX96LA321</td>\n",
       "      <td>1977-06-19</td>\n",
       "      <td>EUREKA, CA</td>\n",
       "      <td>United States</td>\n",
       "      <td>Unknown</td>\n",
       "      <td>Unknown</td>\n",
       "      <td>Fatal(2)</td>\n",
       "      <td>Destroyed</td>\n",
       "      <td>...</td>\n",
       "      <td>Personal</td>\n",
       "      <td>2.0</td>\n",
       "      <td>0.0</td>\n",
       "      <td>0.0</td>\n",
       "      <td>0.0</td>\n",
       "      <td>IMC</td>\n",
       "      <td>Cruise</td>\n",
       "      <td>Probable Cause</td>\n",
       "      <td>2000-12-09</td>\n",
       "      <td>1977</td>\n",
       "    </tr>\n",
       "    <tr>\n",
       "      <th>4</th>\n",
       "      <td>20041105X01764</td>\n",
       "      <td>Accident</td>\n",
       "      <td>CHI79FA064</td>\n",
       "      <td>1979-08-02</td>\n",
       "      <td>Canton, OH</td>\n",
       "      <td>United States</td>\n",
       "      <td>Unknown</td>\n",
       "      <td>Unknown</td>\n",
       "      <td>Fatal(1)</td>\n",
       "      <td>Destroyed</td>\n",
       "      <td>...</td>\n",
       "      <td>Personal</td>\n",
       "      <td>1.0</td>\n",
       "      <td>2.0</td>\n",
       "      <td>0.0</td>\n",
       "      <td>0.0</td>\n",
       "      <td>VMC</td>\n",
       "      <td>Approach</td>\n",
       "      <td>Probable Cause</td>\n",
       "      <td>1980-04-16</td>\n",
       "      <td>1979</td>\n",
       "    </tr>\n",
       "  </tbody>\n",
       "</table>\n",
       "<p>5 rows × 26 columns</p>\n",
       "</div>"
      ],
      "text/plain": [
       "         Event.Id Investigation.Type Accident.Number  Event.Date  \\\n",
       "0  20001218X45444           Accident      SEA87LA080  1948-10-24   \n",
       "1  20001218X45447           Accident      LAX94LA336  1962-07-19   \n",
       "2  20061025X01555           Accident      NYC07LA005  1974-08-30   \n",
       "3  20001218X45448           Accident      LAX96LA321  1977-06-19   \n",
       "4  20041105X01764           Accident      CHI79FA064  1979-08-02   \n",
       "\n",
       "          Location        Country Airport.Code Airport.Name Injury.Severity  \\\n",
       "0  MOOSE CREEK, ID  United States      Unknown      Unknown        Fatal(2)   \n",
       "1   BRIDGEPORT, CA  United States      Unknown      Unknown        Fatal(4)   \n",
       "2    Saltville, VA  United States      Unknown      Unknown        Fatal(3)   \n",
       "3       EUREKA, CA  United States      Unknown      Unknown        Fatal(2)   \n",
       "4       Canton, OH  United States      Unknown      Unknown        Fatal(1)   \n",
       "\n",
       "  Aircraft.damage  ... Purpose.of.flight Total.Fatal.Injuries  \\\n",
       "0       Destroyed  ...          Personal                  2.0   \n",
       "1       Destroyed  ...          Personal                  4.0   \n",
       "2       Destroyed  ...          Personal                  3.0   \n",
       "3       Destroyed  ...          Personal                  2.0   \n",
       "4       Destroyed  ...          Personal                  1.0   \n",
       "\n",
       "  Total.Serious.Injuries  Total.Minor.Injuries  Total.Uninjured  \\\n",
       "0                    0.0                   0.0              0.0   \n",
       "1                    0.0                   0.0              0.0   \n",
       "2                    0.0                   0.0              0.0   \n",
       "3                    0.0                   0.0              0.0   \n",
       "4                    2.0                   0.0              0.0   \n",
       "\n",
       "  Weather.Condition Broad.phase.of.flight   Report.Status  Publication.Date  \\\n",
       "0               UNK                Cruise  Probable Cause           unknown   \n",
       "1               UNK               Unknown  Probable Cause        1996-09-19   \n",
       "2               IMC                Cruise  Probable Cause        2007-02-26   \n",
       "3               IMC                Cruise  Probable Cause        2000-12-09   \n",
       "4               VMC              Approach  Probable Cause        1980-04-16   \n",
       "\n",
       "   Event.Year  \n",
       "0        1948  \n",
       "1        1962  \n",
       "2        1974  \n",
       "3        1977  \n",
       "4        1979  \n",
       "\n",
       "[5 rows x 26 columns]"
      ]
     },
     "execution_count": 5,
     "metadata": {},
     "output_type": "execute_result"
    }
   ],
   "source": [
    "df.head() #This gives the first 5 rows of the dataset"
   ]
  },
  {
   "cell_type": "code",
   "execution_count": 6,
   "metadata": {},
   "outputs": [
    {
     "data": {
      "text/plain": [
       "Event.Id                  0\n",
       "Investigation.Type        0\n",
       "Accident.Number           0\n",
       "Event.Date                0\n",
       "Location                  0\n",
       "Country                   0\n",
       "Airport.Code              0\n",
       "Airport.Name              0\n",
       "Injury.Severity           0\n",
       "Aircraft.damage           0\n",
       "Registration.Number       0\n",
       "Make                      0\n",
       "Model                     0\n",
       "Amateur.Built             0\n",
       "Number.of.Engines         0\n",
       "Engine.Type               0\n",
       "Purpose.of.flight         0\n",
       "Total.Fatal.Injuries      0\n",
       "Total.Serious.Injuries    0\n",
       "Total.Minor.Injuries      0\n",
       "Total.Uninjured           0\n",
       "Weather.Condition         0\n",
       "Broad.phase.of.flight     0\n",
       "Report.Status             0\n",
       "Publication.Date          0\n",
       "Event.Year                0\n",
       "dtype: int64"
      ]
     },
     "execution_count": 6,
     "metadata": {},
     "output_type": "execute_result"
    }
   ],
   "source": [
    "df.isnull().sum() #it checks for missing (NaN) values in each column of your DataFrame and returns a count of missing values per column."
   ]
  },
  {
   "cell_type": "code",
   "execution_count": null,
   "metadata": {},
   "outputs": [],
   "source": [
    "\n",
    "\n",
    "# Calculate missing percentages\n",
    "missing_percentage = (df.isnull().sum() / len(df)) * 100\n",
    "\n",
    "# Display missing values sorted in descending order\n",
    "print(missing_percentage.sort_values(ascending=False))\n"
   ]
  },
  {
   "cell_type": "markdown",
   "metadata": {},
   "source": [
    "**Above is a percentile output of the missing values per column and as per personal research and decision any value above 50% was dropped using the code below**"
   ]
  },
  {
   "cell_type": "code",
   "execution_count": null,
   "metadata": {},
   "outputs": [],
   "source": [
    "high_missing_values=['Schedule','Air.carrier','FAR.Description','Aircraft.Category','Longitude','Latitude']\n",
    "\n",
    "df_cleaned=df.drop(columns=high_missing_values)"
   ]
  },
  {
   "cell_type": "markdown",
   "metadata": {},
   "source": [
    "Below are the columns with a percentage ranging from 30% - 40% the *fillna* method was used to fill both numerical and categorical data"
   ]
  },
  {
   "cell_type": "code",
   "execution_count": null,
   "metadata": {},
   "outputs": [],
   "source": [
    "for col in ['Airport.Code', 'Airport.Name']:\n",
    "    df_cleaned[col].fillna('Unknown', inplace=True)\n",
    "\n",
    "df_cleaned['Broad.phase.of.flight'].fillna(df_cleaned['Broad.phase.of.flight'].mode()[0], inplace=True)\n",
    "\n",
    "df_cleaned.head()\n"
   ]
  },
  {
   "cell_type": "code",
   "execution_count": null,
   "metadata": {},
   "outputs": [],
   "source": [
    "# Fill categorical values with 'Unknown'\n",
    "categorical_cols = ['Engine.Type', 'Report.Status', 'Purpose.of.flight', 'Weather.Condition','Injury.Severity','Publication.Date']\n",
    "for col in categorical_cols:\n",
    "    df_cleaned[col].fillna('Unknown', inplace=True)\n",
    "\n",
    "# Fill numerical columns with 0 (assuming missing means no injury)\n",
    "low_cols = ['Total.Fatal.Injuries', 'Total.Serious.Injuries']\n",
    "for col in low_cols:\n",
    "    df_cleaned[col].fillna(0, inplace=True)\n"
   ]
  },
  {
   "cell_type": "code",
   "execution_count": null,
   "metadata": {},
   "outputs": [],
   "source": [
    "# Fill remaining missing values with mode\n",
    "remaining_cols = ['Aircraft.damage', 'Registration.Number', 'Country', 'Make', 'Model', 'Location','Amateur.Built','Number.of.Engines']\n",
    "for col in remaining_cols:\n",
    "    df_cleaned[col].fillna(df_cleaned[col].mode()[0], inplace=True)\n"
   ]
  },
  {
   "cell_type": "code",
   "execution_count": null,
   "metadata": {},
   "outputs": [],
   "source": [
    "print(f\"Missing values after cleaning are:\\n{df_cleaned.isnull().sum()}\") #use of a format string to check output of missing values in the various columns.\n"
   ]
  },
  {
   "cell_type": "code",
   "execution_count": null,
   "metadata": {},
   "outputs": [],
   "source": [
    "injury_cols = ['Total.Minor.Injuries', 'Total.Uninjured'] # a list of remaining columns with numerical missing values\n",
    "df_cleaned[injury_cols] = df_cleaned[injury_cols].fillna(0) #assuming missing means not injured we replace with 0\n",
    "\n",
    "df_cleaned.dropna(subset=['Accident.Number','Event.Id','Event.Date'],inplace=True)# removes any rows where at least one of these key columns is missing:\n"
   ]
  },
  {
   "cell_type": "code",
   "execution_count": null,
   "metadata": {},
   "outputs": [],
   "source": [
    "print(f'Total duplicated rows are:{ df_cleaned.duplicated().sum()}')\n",
    "print(f'After counter-checking the missing values are:\\n{df_cleaned.isnull().sum()}')"
   ]
  },
  {
   "cell_type": "markdown",
   "metadata": {},
   "source": [
    "#  *Step 4*  Standardise Data Formats"
   ]
  },
  {
   "cell_type": "code",
   "execution_count": null,
   "metadata": {},
   "outputs": [],
   "source": [
    "date_cols = ['Event.Date', 'Publication.Date'] \n",
    "df_cleaned[date_cols] = df_cleaned[date_cols].apply(lambda x: pd.to_datetime(x, errors='coerce').dt.strftime('%Y-%m-%d')) \n",
    "\n",
    "# Convert 'Event.Date' and 'Publication.Date' columns to datetime format and standardize them to 'YYYY-MM-DD'\n",
    "# - `pd.to_datetime(x, errors='coerce')` converts values to datetime format, replacing invalid values with NaT.\n",
    "# - `.dt.strftime('%Y-%m-%d')` formats the dates in a consistent way (YYYY-MM-DD).\n",
    "\n",
    "\n",
    "\n",
    "\n"
   ]
  },
  {
   "cell_type": "code",
   "execution_count": null,
   "metadata": {},
   "outputs": [],
   "source": [
    "std_columns=['Country','Aircraft.damage','Injury.Severity','Make']\n",
    "\n",
    "for std in std_columns:  \n",
    "    # Convert text to lowercase using .str.lower() to ensure uniform formatting\n",
    "    # Remove any leading or trailing spaces using .str.strip() to avoid duplicate categories\n",
    "    df_cleaned[std].str.lower().str.strip()\n",
    "\n",
    "df_cleaned['Make'] = df_cleaned['Make'].str.lower()\n",
    "\n"
   ]
  },
  {
   "cell_type": "code",
   "execution_count": null,
   "metadata": {},
   "outputs": [],
   "source": [
    "df_cleaned['Amateur.Built'] = df_cleaned['Amateur.Built'].str.lower().map({'yes': True, 'no': False}) #converts categorical text into boolean\n"
   ]
  },
  {
   "cell_type": "code",
   "execution_count": null,
   "metadata": {},
   "outputs": [],
   "source": [
    "numeric_cols = ['Total.Fatal.Injuries', 'Total.Serious.Injuries', 'Total.Minor.Injuries', 'Total.Uninjured']\n",
    "df_cleaned[numeric_cols] = df_cleaned[numeric_cols].apply(pd.to_numeric, errors='coerce')\n",
    "#apply(pd.to_numeric) → Converts each column in numeric_cols to numeric format (integers or floats).\n",
    "#errors='coerce' → Replaces any invalid (non-numeric) values with NaN instead of raising an error.\n"
   ]
  },
  {
   "cell_type": "code",
   "execution_count": null,
   "metadata": {},
   "outputs": [],
   "source": [
    "df_cleaned.info()\n"
   ]
  },
  {
   "cell_type": "code",
   "execution_count": null,
   "metadata": {},
   "outputs": [],
   "source": [
    "\n",
    "print(f'Counter check 2; the missing values are:\\n{df_cleaned.isnull().sum()}')"
   ]
  },
  {
   "cell_type": "code",
   "execution_count": null,
   "metadata": {},
   "outputs": [],
   "source": [
    "df_cleaned['Publication.Date'].fillna('unknown',inplace=True)\n",
    "print(f'The Final Counter check .\\n The missing values are:\\n{df_cleaned.isnull().sum()}')"
   ]
  },
  {
   "cell_type": "markdown",
   "metadata": {},
   "source": [
    "# *step 5* Visualization of Data\n"
   ]
  },
  {
   "cell_type": "code",
   "execution_count": null,
   "metadata": {},
   "outputs": [],
   "source": [
    "df_cleaned.columns"
   ]
  },
  {
   "cell_type": "markdown",
   "metadata": {},
   "source": [
    "> ### Yearly Aviation Accidents Trend"
   ]
  },
  {
   "cell_type": "code",
   "execution_count": null,
   "metadata": {},
   "outputs": [],
   "source": [
    "import seaborn as sns\n",
    "import matplotlib.pyplot as plt\n",
    "\n",
    "# Extract year from Event.Date\n",
    "df_cleaned['Event.Year'] = pd.to_datetime(df_cleaned['Event.Date'], errors='coerce').dt.year\n",
    "\n",
    "# Count accidents per year\n",
    "accidents_per_year = df_cleaned.groupby('Event.Year').size().reset_index(name='Accident Count')\n",
    "\n",
    "# Plot\n",
    "plt.figure(figsize=(12, 6))\n",
    "sns.lineplot(x='Event.Year', y='Accident Count', data=accidents_per_year, marker='o', color='b')\n",
    "\n",
    "# Labels & Title\n",
    "plt.xlabel('Year')\n",
    "plt.ylabel('Number of Accidents')\n",
    "plt.title('Yearly Aviation Accidents Trend')\n",
    "plt.grid(True, linestyle='--', alpha=0.7)\n",
    "\n",
    "# Show plot\n",
    "plt.show()\n"
   ]
  },
  {
   "cell_type": "markdown",
   "metadata": {},
   "source": [
    "The above line plot reflects on the  number of Aviation accidents per year which shows a **downward trend** highlghting the importance of safety."
   ]
  },
  {
   "cell_type": "markdown",
   "metadata": {},
   "source": [
    ">> ### Top 10 Countries with Most Aviation Accidents"
   ]
  },
  {
   "cell_type": "code",
   "execution_count": null,
   "metadata": {},
   "outputs": [],
   "source": [
    "accident_count_country = df_cleaned.groupby('Country').size().reset_index(name='Accident Count')\n",
    "\n",
    "plt.figure(figsize=(15,6))\n",
    "top_countries = accident_count_country.sort_values(by='Accident Count', ascending=False).head(10)  # Top 10 countries\n",
    "\n",
    "sns.barplot(x='Accident Count', y='Country', data=top_countries, palette='Blues_r')\n",
    "\n",
    "plt.xlabel('Number of Accidents')\n",
    "plt.ylabel('Country')\n",
    "plt.title('Top 10 Countries with Most Aviation Accidents')\n",
    "plt.grid(axis='x', linestyle='--', alpha=0.7)\n",
    "plt.show()\n"
   ]
  },
  {
   "cell_type": "markdown",
   "metadata": {},
   "source": [
    "The bar chart shows the countries with most aviation accidents in recent times with U.S.A topping the chart.The U.S. tops the list due to its massive aviation industry, strong reporting, and general aviation sector. It doesn’t mean it’s the most dangerous—it just has the highest flight volume and best reporting transparency.\n",
    "\n"
   ]
  },
  {
   "cell_type": "markdown",
   "metadata": {},
   "source": [
    ">>> ### Top 10 Aircraft Types Involved in Accidents"
   ]
  },
  {
   "cell_type": "code",
   "execution_count": null,
   "metadata": {},
   "outputs": [],
   "source": [
    "plt.figure(figsize=(12, 6))\n",
    "\n",
    "# Count of accidents by Aircraft Make\n",
    "aircraft_accidents = df_cleaned['Make'].value_counts().head(10).reset_index()\n",
    "aircraft_accidents.columns = ['Aircraft Make', 'Accident Count']\n",
    "\n",
    "# Plot\n",
    "sns.barplot(x='Accident Count', y='Aircraft Make', data=aircraft_accidents, palette='viridis')\n",
    "\n",
    "# Labels & Title\n",
    "plt.xlabel('Number of Accidents')\n",
    "plt.ylabel('Aircraft Manufacturer')\n",
    "plt.title('Top 10 Aircraft Types Involved in Accidents')\n",
    "plt.grid(axis='x', linestyle='--', alpha=0.7)\n",
    "\n",
    "plt.show()\n",
    "\n",
    "\n",
    "\n",
    "\n",
    "\n"
   ]
  },
  {
   "cell_type": "markdown",
   "metadata": {},
   "source": [
    "Cessna recorded the highest number of accidents in the dataset.\n",
    "\n",
    "Mooney had the least accidents among the top 10 manufacturers"
   ]
  },
  {
   "cell_type": "markdown",
   "metadata": {},
   "source": [
    ">>>> ### Accidents by Flight Phase"
   ]
  },
  {
   "cell_type": "code",
   "execution_count": null,
   "metadata": {},
   "outputs": [],
   "source": [
    "\n",
    "plt.figure(figsize=(12, 6))\n",
    "\n",
    "# Count of accidents per flight phase\n",
    "flight_phase_accidents = df_cleaned['Broad.phase.of.flight'].value_counts().reset_index()\n",
    "flight_phase_accidents.columns = ['Flight Phase', 'Accident Count']\n",
    "\n",
    "# Plot\n",
    "sns.barplot(x='Accident Count', y='Flight Phase', data=flight_phase_accidents, palette='magma')\n",
    "\n",
    "# Labels & Title\n",
    "plt.xlabel('Number of Accidents')\n",
    "plt.ylabel('Flight Phase')\n",
    "plt.title('Accidents by Flight Phase')\n",
    "plt.grid(axis='x', linestyle='--', alpha=0.7)\n",
    "\n",
    "plt.show()\n"
   ]
  },
  {
   "cell_type": "markdown",
   "metadata": {},
   "source": [
    "Our analysis shows that [most accidents occur during **Takeoff/Landing/Cruise**]. This presents a major safety risk in aviation. Our startup can address this by developing [automated safety solutions/pilot training enhancements/real-time monitoring tools]. This will reduce accident rates, improve operational efficiency, and position us as a leader in aviation safety innovation.\"\n",
    "\n"
   ]
  },
  {
   "cell_type": "code",
   "execution_count": null,
   "metadata": {},
   "outputs": [],
   "source": [
    "df_cleaned.to_csv(\"Aviation_Data.csv\", index=False) #converts the DataFrame df_cleaned into a csv file saved under Aviation_Data\n"
   ]
  }
 ],
 "metadata": {
  "kernelspec": {
   "display_name": "learn-env",
   "language": "python",
   "name": "python3"
  },
  "language_info": {
   "codemirror_mode": {
    "name": "ipython",
    "version": 3
   },
   "file_extension": ".py",
   "mimetype": "text/x-python",
   "name": "python",
   "nbconvert_exporter": "python",
   "pygments_lexer": "ipython3",
   "version": "3.8.5"
  }
 },
 "nbformat": 4,
 "nbformat_minor": 2
}
